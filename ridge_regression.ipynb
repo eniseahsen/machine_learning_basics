{
 "cells": [
  {
   "cell_type": "raw",
   "id": "40106b9c-6c2b-4bfa-965e-d2c4788a7664",
   "metadata": {},
   "source": [
    "*Ridge Regresyon overfitting için kullanılır\n",
    "*Ridge Regresyon sayesinde bias ve varyans arasındaki dengeyi sağlayabiliriz\n",
    "*Ridge Regresyonda katsayılar üzerinde regülasyon yapılıyor\n",
    "*Ridge regresyona katsayılar küçülür ama sıfır olmaz. Features öz nitelik azalmaz\n",
    "*L2 Regresyonu\n",
    "\n",
    "*Ridge Regression is used to prevent overfitting.\n",
    "*With Ridge Regression, we can achieve a balance between bias and variance.\n",
    "*In Ridge Regression, regularization is applied to the coefficients.\n",
    "*In Ridge Regression, coefficients shrink but do not become zero, meaning the features do not decrease.\n",
    "*L2 Regression"
   ]
  },
  {
   "cell_type": "code",
   "execution_count": 31,
   "id": "18ce0ccb-33d2-456d-bcf0-1ae18c7833aa",
   "metadata": {},
   "outputs": [],
   "source": [
    "import pandas as pd\n",
    "import numpy as np\n",
    "import matplotlib.pyplot as plt\n",
    "from sklearn.linear_model import LinearRegression,Ridge\n"
   ]
  },
  {
   "cell_type": "code",
   "execution_count": 7,
   "id": "6e0b0ca2-8bfe-4b2c-8412-ddaca43013b3",
   "metadata": {},
   "outputs": [],
   "source": [
    "df = pd.read_csv(r\"C:\\db\\student_scores.csv\")"
   ]
  },
  {
   "cell_type": "code",
   "execution_count": 9,
   "id": "887a4346-76c4-448a-ad2b-9beeaa9d5497",
   "metadata": {},
   "outputs": [
    {
     "data": {
      "text/html": [
       "<div>\n",
       "<style scoped>\n",
       "    .dataframe tbody tr th:only-of-type {\n",
       "        vertical-align: middle;\n",
       "    }\n",
       "\n",
       "    .dataframe tbody tr th {\n",
       "        vertical-align: top;\n",
       "    }\n",
       "\n",
       "    .dataframe thead th {\n",
       "        text-align: right;\n",
       "    }\n",
       "</style>\n",
       "<table border=\"1\" class=\"dataframe\">\n",
       "  <thead>\n",
       "    <tr style=\"text-align: right;\">\n",
       "      <th></th>\n",
       "      <th>Hours</th>\n",
       "      <th>Scores</th>\n",
       "    </tr>\n",
       "  </thead>\n",
       "  <tbody>\n",
       "    <tr>\n",
       "      <th>0</th>\n",
       "      <td>2.5</td>\n",
       "      <td>21</td>\n",
       "    </tr>\n",
       "    <tr>\n",
       "      <th>1</th>\n",
       "      <td>5.1</td>\n",
       "      <td>47</td>\n",
       "    </tr>\n",
       "    <tr>\n",
       "      <th>2</th>\n",
       "      <td>3.2</td>\n",
       "      <td>27</td>\n",
       "    </tr>\n",
       "  </tbody>\n",
       "</table>\n",
       "</div>"
      ],
      "text/plain": [
       "   Hours  Scores\n",
       "0    2.5      21\n",
       "1    5.1      47\n",
       "2    3.2      27"
      ]
     },
     "execution_count": 9,
     "metadata": {},
     "output_type": "execute_result"
    }
   ],
   "source": [
    "df.head(3)"
   ]
  },
  {
   "cell_type": "code",
   "execution_count": 21,
   "id": "1c1e5b0c-87c1-45af-9809-6bd9a45e46f5",
   "metadata": {},
   "outputs": [],
   "source": [
    "y = df[\"Scores\"]\n",
    "x = df[[\"Hours\"]]"
   ]
  },
  {
   "cell_type": "code",
   "execution_count": 23,
   "id": "591a73ba-aa86-4bb5-9458-5ebdc3742a44",
   "metadata": {},
   "outputs": [
    {
     "data": {
      "image/png": "[encoded data removed]",
      "text/plain": [
       "<Figure size 600x600 with 1 Axes>"
      ]
     },
     "metadata": {},
     "output_type": "display_data"
    }
   ],
   "source": [
    "plt.style.use(\"fivethirtyeight\")\n",
    "plt.figure(figsize=(6,6))\n",
    "plt.scatter(x,y)\n",
    "plt.show()"
   ]
  },
  {
   "cell_type": "code",
   "execution_count": 27,
   "id": "15db5b6f-e36d-484f-9481-dc7cee3c1db6",
   "metadata": {},
   "outputs": [
    {
     "data": {
      "text/plain": [
       "0.9529481969048356"
      ]
     },
     "execution_count": 27,
     "metadata": {},
     "output_type": "execute_result"
    }
   ],
   "source": [
    "lr = LinearRegression()\n",
    "model = lr.fit(x,y)\n",
    "model.score(x,y)\n"
   ]
  },
  {
   "cell_type": "code",
   "execution_count": 37,
   "id": "8cd195b7-2399-4b11-ac87-4ee75490b00d",
   "metadata": {},
   "outputs": [
    {
     "name": "stdout",
     "output_type": "stream",
     "text": [
      "Skor: 0.9529080290200402\n",
      "Katsayı: [9.77580339]\n",
      "Skor: 0.9493626664489586\n",
      "Katsayı: [9.77580339]\n",
      "Skor: 0.9402159650030348\n",
      "Katsayı: [9.77580339]\n",
      "Skor: 0.8041020421635484\n",
      "Katsayı: [9.77580339]\n",
      "Skor: 0.6470936677458761\n",
      "Katsayı: [9.77580339]\n"
     ]
    }
   ],
   "source": [
    "alfalar = [1,10,20,100,200]\n",
    "for a in alfalar:\n",
    "    r = Ridge(alpha=a)\n",
    "    modelr = r.fit(x,y)\n",
    "    modelr.score(x,y)\n",
    "    skor = modelr.score(x,y)\n",
    "    print(\"Skor:\" ,skor)\n",
    "    print(\"Katsayı:\",model.coef_)\n",
    "        \n",
    "\n"
   ]
  },
  {
   "cell_type": "raw",
   "id": "0930d7b6-c5e4-4c0a-8f2f-8d5ea8f9cf4b",
   "metadata": {},
   "source": [
    "*alpha arttıkça katsayı azalır, alpha arttıkça doğru, x eksenine doğru parelelleşir\n",
    "*as alpha increases, the coefficients decrease; as alpha increases, the line becomes more parallel to the x-axis."
   ]
  },
  {
   "cell_type": "code",
   "execution_count": null,
   "id": "6a2cfa62-1ee4-4e35-89bb-3b1a983396b1",
   "metadata": {},
   "outputs": [],
   "source": []
  }
 ],
 "metadata": {
  "kernelspec": {
   "display_name": "Python 3 (ipykernel)",
   "language": "python",
   "name": "python3"
  },
  "language_info": {
   "codemirror_mode": {
    "name": "ipython",
    "version": 3
   },
   "file_extension": ".py",
   "mimetype": "text/x-python",
   "name": "python",
   "nbconvert_exporter": "python",
   "pygments_lexer": "ipython3",
   "version": "3.12.4"
  }
 },
 "nbformat": 4,
 "nbformat_minor": 5
}
