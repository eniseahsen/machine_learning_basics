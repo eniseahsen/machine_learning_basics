{
 "cells": [
  {
   "cell_type": "code",
   "execution_count": 144,
   "id": "254d0242-7e87-4d66-ab07-3bf28d24371c",
   "metadata": {},
   "outputs": [],
   "source": [
    "import pandas as pd\n",
    "import numpy as np\n",
    "from sklearn.feature_extraction.text import CountVectorizer\n",
    "from sklearn.ensemble import RandomForestClassifier\n",
    "from sklearn.model_selection import train_test_split"
   ]
  },
  {
   "cell_type": "code",
   "execution_count": 146,
   "id": "b03f11ec-a8e7-49cd-bd82-4b7a604a0afc",
   "metadata": {},
   "outputs": [],
   "source": [
    "df = pd.read_csv(r\"C:\\db\\banka.csv\")"
   ]
  },
  {
   "cell_type": "code",
   "execution_count": 148,
   "id": "06f0f49e-8ab2-4d2f-9f5f-797e72665b88",
   "metadata": {},
   "outputs": [
    {
     "name": "stdout",
     "output_type": "stream",
     "text": [
      "<class 'pandas.core.frame.DataFrame'>\n",
      "RangeIndex: 143 entries, 0 to 142\n",
      "Data columns (total 4 columns):\n",
      " #   Column      Non-Null Count  Dtype \n",
      "---  ------      --------------  ----- \n",
      " 0   Unnamed: 0  143 non-null    int64 \n",
      " 1   sorgu       143 non-null    object\n",
      " 2   label       143 non-null    object\n",
      " 3   le          143 non-null    int64 \n",
      "dtypes: int64(2), object(2)\n",
      "memory usage: 4.6+ KB\n"
     ]
    }
   ],
   "source": [
    "df.info()"
   ]
  },
  {
   "cell_type": "code",
   "execution_count": 150,
   "id": "da818481-dcfc-4f56-a577-0afe1d9796f7",
   "metadata": {},
   "outputs": [
    {
     "data": {
      "text/plain": [
       "(143, 4)"
      ]
     },
     "execution_count": 150,
     "metadata": {},
     "output_type": "execute_result"
    }
   ],
   "source": [
    "df.shape"
   ]
  },
  {
   "cell_type": "code",
   "execution_count": 152,
   "id": "7388b0e7-ec40-4ab6-94b7-330f85870a56",
   "metadata": {},
   "outputs": [
    {
     "data": {
      "text/html": [
       "<div>\n",
       "<style scoped>\n",
       "    .dataframe tbody tr th:only-of-type {\n",
       "        vertical-align: middle;\n",
       "    }\n",
       "\n",
       "    .dataframe tbody tr th {\n",
       "        vertical-align: top;\n",
       "    }\n",
       "\n",
       "    .dataframe thead th {\n",
       "        text-align: right;\n",
       "    }\n",
       "</style>\n",
       "<table border=\"1\" class=\"dataframe\">\n",
       "  <thead>\n",
       "    <tr style=\"text-align: right;\">\n",
       "      <th></th>\n",
       "      <th>Unnamed: 0</th>\n",
       "      <th>sorgu</th>\n",
       "      <th>label</th>\n",
       "      <th>le</th>\n",
       "    </tr>\n",
       "  </thead>\n",
       "  <tbody>\n",
       "    <tr>\n",
       "      <th>0</th>\n",
       "      <td>0</td>\n",
       "      <td>kredi kartımı kaybettim</td>\n",
       "      <td>kartkayip</td>\n",
       "      <td>1</td>\n",
       "    </tr>\n",
       "    <tr>\n",
       "      <th>1</th>\n",
       "      <td>1</td>\n",
       "      <td>banka kartımı kaybettim</td>\n",
       "      <td>kartkayip</td>\n",
       "      <td>1</td>\n",
       "    </tr>\n",
       "    <tr>\n",
       "      <th>2</th>\n",
       "      <td>2</td>\n",
       "      <td>kredi kartımı bulamıyorum</td>\n",
       "      <td>kartkayip</td>\n",
       "      <td>1</td>\n",
       "    </tr>\n",
       "    <tr>\n",
       "      <th>3</th>\n",
       "      <td>3</td>\n",
       "      <td>kredi kartım çalındı</td>\n",
       "      <td>kartkayip</td>\n",
       "      <td>1</td>\n",
       "    </tr>\n",
       "    <tr>\n",
       "      <th>4</th>\n",
       "      <td>4</td>\n",
       "      <td>kredi kartımın olduğunu bilmiyorum</td>\n",
       "      <td>kartkayip</td>\n",
       "      <td>1</td>\n",
       "    </tr>\n",
       "  </tbody>\n",
       "</table>\n",
       "</div>"
      ],
      "text/plain": [
       "   Unnamed: 0                               sorgu      label  le\n",
       "0           0             kredi kartımı kaybettim  kartkayip   1\n",
       "1           1             banka kartımı kaybettim  kartkayip   1\n",
       "2           2           kredi kartımı bulamıyorum  kartkayip   1\n",
       "3           3                kredi kartım çalındı  kartkayip   1\n",
       "4           4  kredi kartımın olduğunu bilmiyorum  kartkayip   1"
      ]
     },
     "execution_count": 152,
     "metadata": {},
     "output_type": "execute_result"
    }
   ],
   "source": [
    "df.head()"
   ]
  },
  {
   "cell_type": "code",
   "execution_count": 154,
   "id": "80ef2807-b30e-4169-b2d4-16e0e84cee05",
   "metadata": {},
   "outputs": [],
   "source": [
    "df = df[[\"sorgu\",\"label\"]]"
   ]
  },
  {
   "cell_type": "code",
   "execution_count": 156,
   "id": "3d59f533-a5d0-4267-97cf-c4dd54e14f1d",
   "metadata": {},
   "outputs": [
    {
     "data": {
      "text/html": [
       "<div>\n",
       "<style scoped>\n",
       "    .dataframe tbody tr th:only-of-type {\n",
       "        vertical-align: middle;\n",
       "    }\n",
       "\n",
       "    .dataframe tbody tr th {\n",
       "        vertical-align: top;\n",
       "    }\n",
       "\n",
       "    .dataframe thead th {\n",
       "        text-align: right;\n",
       "    }\n",
       "</style>\n",
       "<table border=\"1\" class=\"dataframe\">\n",
       "  <thead>\n",
       "    <tr style=\"text-align: right;\">\n",
       "      <th></th>\n",
       "      <th>sorgu</th>\n",
       "      <th>label</th>\n",
       "    </tr>\n",
       "  </thead>\n",
       "  <tbody>\n",
       "    <tr>\n",
       "      <th>0</th>\n",
       "      <td>kredi kartımı kaybettim</td>\n",
       "      <td>kartkayip</td>\n",
       "    </tr>\n",
       "    <tr>\n",
       "      <th>1</th>\n",
       "      <td>banka kartımı kaybettim</td>\n",
       "      <td>kartkayip</td>\n",
       "    </tr>\n",
       "    <tr>\n",
       "      <th>2</th>\n",
       "      <td>kredi kartımı bulamıyorum</td>\n",
       "      <td>kartkayip</td>\n",
       "    </tr>\n",
       "  </tbody>\n",
       "</table>\n",
       "</div>"
      ],
      "text/plain": [
       "                       sorgu      label\n",
       "0    kredi kartımı kaybettim  kartkayip\n",
       "1    banka kartımı kaybettim  kartkayip\n",
       "2  kredi kartımı bulamıyorum  kartkayip"
      ]
     },
     "execution_count": 156,
     "metadata": {},
     "output_type": "execute_result"
    }
   ],
   "source": [
    "df.head(3)"
   ]
  },
  {
   "cell_type": "code",
   "execution_count": 158,
   "id": "fe74153e-f4f7-43a3-8a78-d88d1b7aa390",
   "metadata": {},
   "outputs": [],
   "source": [
    "stopwords=['fakat','lakin','ancak','acaba', 'ama', 'aslında', 'az', 'bazı', 'belki', 'biri', 'birkaç', 'birşey', 'biz', 'bu', 'çok', 'çünkü', 'da', 'daha', 'de', 'defa', 'diye', 'eğer', 'en', 'gibi', 'hem', 'hep', 'hepsi', 'her', 'hiç', 'için', 'ile', 'ise', 'kez', 'ki', 'kim', 'mı', 'mu', 'mü', 'nasıl', 'ne', 'neden', 'nerde', 'nerede', 'nereye', 'niçin', 'niye', 'o', 'sanki', 'şey', 'siz', 'şu', 'tüm', 've', 'veya', 'ya', 'yani']"
   ]
  },
  {
   "cell_type": "code",
   "execution_count": 160,
   "id": "c328406f-f1cf-47e7-90c7-6935b1aefdc9",
   "metadata": {},
   "outputs": [
    {
     "name": "stdin",
     "output_type": "stream",
     "text": [
      "yapmak istediğiniz işlemi giriniz:  mobilden para transferi yapmak istiyorum\n"
     ]
    },
    {
     "name": "stdout",
     "output_type": "stream",
     "text": [
      "Sonuc: ['paragonderme'] Skor 1.0\n"
     ]
    }
   ],
   "source": [
    "mesaj = input(\"yapmak istediğiniz işlemi giriniz: \")\n",
    "mesajdf = pd.DataFrame({\"sorgu\":mesaj, \"label\":0},index=[42])\n",
    "df = pd.concat([df,mesajdf],ignore_index=True) #ignore_index=True olarak ayarlanırsa, eski indeksler dikkate alınmaz ve yeni DataFrame için sıfırdan başlayarak yeni indeksler oluşturulur\n",
    "\n",
    "for word in stopwords:\n",
    "    word = \" \"+word+\" \"\n",
    "    df[\"sorgu\"]=df[\"sorgu\"].str.replace(word,\" \")\n",
    "\n",
    "\n",
    "cv = CountVectorizer(max_features=50)\n",
    "\n",
    "x = cv.fit_transform(df[\"sorgu\"]).toarray()[0:-1]\n",
    "y=df[\"label\"][0:-1]\n",
    "tahmin=x[-1].copy()\n",
    "x=x[0:-1]\n",
    "y=y[0:-1]\n",
    "x_train,x_test,y_train,y_test= train_test_split(x,y,random_state=21,train_size=0.7)\n",
    "\n",
    "rf = RandomForestClassifier()\n",
    "model = rf.fit(x_train,y_train)\n",
    "skor = model.score(x_test,y_test)\n",
    "\n",
    "sonuc = model.predict([tahmin])\n",
    "print(\"Sonuc:\",sonuc,\"Skor\",skor)"
   ]
  },
  {
   "cell_type": "code",
   "execution_count": 77,
   "id": "70d39bd8-bfdd-44a0-9e4f-5c278c903b21",
   "metadata": {},
   "outputs": [],
   "source": [
    "\n",
    "    "
   ]
  },
  {
   "cell_type": "code",
   "execution_count": 81,
   "id": "7f428eaa-2493-4ece-92b4-36981cb7f7f1",
   "metadata": {},
   "outputs": [],
   "source": []
  },
  {
   "cell_type": "code",
   "execution_count": 88,
   "id": "770533c7-426d-45ac-9e40-85bb43990266",
   "metadata": {},
   "outputs": [],
   "source": []
  },
  {
   "cell_type": "code",
   "execution_count": null,
   "id": "a472af7f-4742-4077-87fc-7108ecb306d8",
   "metadata": {},
   "outputs": [],
   "source": []
  },
  {
   "cell_type": "code",
   "execution_count": null,
   "id": "18768304-399c-4732-a5c2-a2fa8e5af69f",
   "metadata": {},
   "outputs": [],
   "source": []
  }
 ],
 "metadata": {
  "kernelspec": {
   "display_name": "Python 3 (ipykernel)",
   "language": "python",
   "name": "python3"
  },
  "language_info": {
   "codemirror_mode": {
    "name": "ipython",
    "version": 3
   },
   "file_extension": ".py",
   "mimetype": "text/x-python",
   "name": "python",
   "nbconvert_exporter": "python",
   "pygments_lexer": "ipython3",
   "version": "3.12.4"
  }
 },
 "nbformat": 4,
 "nbformat_minor": 5
}
