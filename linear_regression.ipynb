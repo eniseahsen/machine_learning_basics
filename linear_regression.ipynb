{
 "cells": [
  {
   "cell_type": "raw",
   "id": "9055ceae-5358-4aac-92cc-238b357ae257",
   "metadata": {},
   "source": [
    "Regresyon & Sınıflandırma\n",
    "\n",
    "y = ax + b\n",
    "y-> bağımlı değişken\n",
    "x -> bağımsız değişken\n",
    "a -> bağımsız değişken katsayısı\n",
    "b -> hata\n",
    "\n",
    "***********************************\n",
    "\n",
    "\n",
    "Regression & Classification\n",
    "\n",
    "y = ax + b\n",
    "y -> dependent variable\n",
    "x -> independent variable\n",
    "a -> coefficient of the independent variable\n",
    "b -> error"
   ]
  },
  {
   "cell_type": "code",
   "execution_count": 2,
   "id": "b3cd0be2-6346-4b12-a3fb-8f935b32c699",
   "metadata": {},
   "outputs": [],
   "source": [
    "from sklearn.linear_model import LinearRegression\n",
    "import pandas as pd"
   ]
  },
  {
   "cell_type": "code",
   "execution_count": 3,
   "id": "13d0e571-dc2e-4387-ac77-51dc1680b962",
   "metadata": {},
   "outputs": [],
   "source": [
    "df = pd.read_csv(r\"C:\\db\\Student_Marks.csv\")"
   ]
  },
  {
   "cell_type": "code",
   "execution_count": 6,
   "id": "a283374f-4f01-462e-b082-00a0e6d330fc",
   "metadata": {},
   "outputs": [
    {
     "data": {
      "text/html": [
       "<div>\n",
       "<style scoped>\n",
       "    .dataframe tbody tr th:only-of-type {\n",
       "        vertical-align: middle;\n",
       "    }\n",
       "\n",
       "    .dataframe tbody tr th {\n",
       "        vertical-align: top;\n",
       "    }\n",
       "\n",
       "    .dataframe thead th {\n",
       "        text-align: right;\n",
       "    }\n",
       "</style>\n",
       "<table border=\"1\" class=\"dataframe\">\n",
       "  <thead>\n",
       "    <tr style=\"text-align: right;\">\n",
       "      <th></th>\n",
       "      <th>number_courses</th>\n",
       "      <th>time_study</th>\n",
       "      <th>Marks</th>\n",
       "    </tr>\n",
       "  </thead>\n",
       "  <tbody>\n",
       "    <tr>\n",
       "      <th>0</th>\n",
       "      <td>3</td>\n",
       "      <td>4.508</td>\n",
       "      <td>19.202</td>\n",
       "    </tr>\n",
       "    <tr>\n",
       "      <th>1</th>\n",
       "      <td>4</td>\n",
       "      <td>0.096</td>\n",
       "      <td>7.734</td>\n",
       "    </tr>\n",
       "    <tr>\n",
       "      <th>2</th>\n",
       "      <td>4</td>\n",
       "      <td>3.133</td>\n",
       "      <td>13.811</td>\n",
       "    </tr>\n",
       "  </tbody>\n",
       "</table>\n",
       "</div>"
      ],
      "text/plain": [
       "   number_courses  time_study   Marks\n",
       "0               3       4.508  19.202\n",
       "1               4       0.096   7.734\n",
       "2               4       3.133  13.811"
      ]
     },
     "execution_count": 6,
     "metadata": {},
     "output_type": "execute_result"
    }
   ],
   "source": [
    "df.head(3)"
   ]
  },
  {
   "cell_type": "code",
   "execution_count": 8,
   "id": "4789ff2c-ad0f-4e98-82b2-7070410085c0",
   "metadata": {},
   "outputs": [],
   "source": [
    "y = df[[\"Marks\"]]  \n",
    "x = df[[\"number_courses\", \"time_study\"]]"
   ]
  },
  {
   "cell_type": "code",
   "execution_count": 10,
   "id": "3bce3661-d24f-486d-8c34-2c4c81d1c500",
   "metadata": {},
   "outputs": [],
   "source": [
    "l = LinearRegression()\n",
    "model = l.fit(x,y)\n",
    "\n",
    "#modeli x ve y değişkenleri ile eğitiyoruz\n",
    "#we are training the model with the variables x and y."
   ]
  },
  {
   "cell_type": "code",
   "execution_count": 12,
   "id": "bcf827b2-b4bc-47c3-946f-b93f7fee6b65",
   "metadata": {},
   "outputs": [
    {
     "name": "stderr",
     "output_type": "stream",
     "text": [
      "C:\\ProgramData\\anaconda3\\Lib\\site-packages\\sklearn\\base.py:493: UserWarning: X does not have valid feature names, but LinearRegression was fitted with feature names\n",
      "  warnings.warn(\n"
     ]
    },
    {
     "data": {
      "text/plain": [
       "array([[21.59657189]])"
      ]
     },
     "execution_count": 12,
     "metadata": {},
     "output_type": "execute_result"
    }
   ],
   "source": [
    "model.predict([[4,4]])\n",
    "\n",
    "# 4. sınıfta olup 4 saat çalışan bir öğrenci için notunu tahmin ediyoruz\n",
    "# we are predicting the grade for a 4th-year student who works 4 hours."
   ]
  },
  {
   "cell_type": "code",
   "execution_count": 14,
   "id": "b34e3ab6-066e-4b26-abfa-ccf393e41438",
   "metadata": {},
   "outputs": [
    {
     "data": {
      "text/plain": [
       "55.299"
      ]
     },
     "execution_count": 14,
     "metadata": {},
     "output_type": "execute_result"
    }
   ],
   "source": [
    "df[\"Marks\"].max()"
   ]
  },
  {
   "cell_type": "code",
   "execution_count": 16,
   "id": "98f5fe1d-f44b-497a-8a38-55ec197266e8",
   "metadata": {},
   "outputs": [
    {
     "data": {
      "text/plain": [
       "0.9403656320238896"
      ]
     },
     "execution_count": 16,
     "metadata": {},
     "output_type": "execute_result"
    }
   ],
   "source": [
    "model.score(x,y) \n",
    "#başarı oranı\n",
    "#success rate"
   ]
  },
  {
   "cell_type": "code",
   "execution_count": 18,
   "id": "46a2f780-e57b-4987-80c0-32e37f191e65",
   "metadata": {},
   "outputs": [],
   "source": [
    "df.columns = [\"sinif\", \"saat\",\"puan\"]"
   ]
  },
  {
   "cell_type": "code",
   "execution_count": 20,
   "id": "decff55b-46e2-4682-a5d4-a04b2bdd0e76",
   "metadata": {},
   "outputs": [
    {
     "data": {
      "text/html": [
       "<div>\n",
       "<style scoped>\n",
       "    .dataframe tbody tr th:only-of-type {\n",
       "        vertical-align: middle;\n",
       "    }\n",
       "\n",
       "    .dataframe tbody tr th {\n",
       "        vertical-align: top;\n",
       "    }\n",
       "\n",
       "    .dataframe thead th {\n",
       "        text-align: right;\n",
       "    }\n",
       "</style>\n",
       "<table border=\"1\" class=\"dataframe\">\n",
       "  <thead>\n",
       "    <tr style=\"text-align: right;\">\n",
       "      <th></th>\n",
       "      <th>sinif</th>\n",
       "      <th>saat</th>\n",
       "      <th>puan</th>\n",
       "    </tr>\n",
       "  </thead>\n",
       "  <tbody>\n",
       "    <tr>\n",
       "      <th>0</th>\n",
       "      <td>3</td>\n",
       "      <td>4.508</td>\n",
       "      <td>19.202</td>\n",
       "    </tr>\n",
       "    <tr>\n",
       "      <th>1</th>\n",
       "      <td>4</td>\n",
       "      <td>0.096</td>\n",
       "      <td>7.734</td>\n",
       "    </tr>\n",
       "    <tr>\n",
       "      <th>2</th>\n",
       "      <td>4</td>\n",
       "      <td>3.133</td>\n",
       "      <td>13.811</td>\n",
       "    </tr>\n",
       "    <tr>\n",
       "      <th>3</th>\n",
       "      <td>6</td>\n",
       "      <td>7.909</td>\n",
       "      <td>53.018</td>\n",
       "    </tr>\n",
       "    <tr>\n",
       "      <th>4</th>\n",
       "      <td>8</td>\n",
       "      <td>7.811</td>\n",
       "      <td>55.299</td>\n",
       "    </tr>\n",
       "  </tbody>\n",
       "</table>\n",
       "</div>"
      ],
      "text/plain": [
       "   sinif   saat    puan\n",
       "0      3  4.508  19.202\n",
       "1      4  0.096   7.734\n",
       "2      4  3.133  13.811\n",
       "3      6  7.909  53.018\n",
       "4      8  7.811  55.299"
      ]
     },
     "execution_count": 20,
     "metadata": {},
     "output_type": "execute_result"
    }
   ],
   "source": [
    "df.head()"
   ]
  },
  {
   "cell_type": "code",
   "execution_count": 22,
   "id": "528b7f46-3945-4ad0-abca-e72e6250a42e",
   "metadata": {},
   "outputs": [],
   "source": [
    "y = df[[\"puan\"]]\n",
    "x = df[[\"sinif\",\"saat\"]]"
   ]
  },
  {
   "cell_type": "code",
   "execution_count": 24,
   "id": "44e680ad-bcd2-420b-b5e0-0c87fafc3a59",
   "metadata": {},
   "outputs": [],
   "source": [
    "lm = LinearRegression()\n",
    "model = lm.fit(x,y)\n"
   ]
  },
  {
   "cell_type": "raw",
   "id": "fc98b716-2e8d-4385-a518-9aa8aec757ad",
   "metadata": {},
   "source": [
    "y = ax + b"
   ]
  },
  {
   "cell_type": "code",
   "execution_count": 26,
   "id": "b208e7d4-68db-448d-9604-720a2583f28a",
   "metadata": {},
   "outputs": [
    {
     "data": {
      "text/plain": [
       "array([[1.86405074, 5.39917879]])"
      ]
     },
     "execution_count": 26,
     "metadata": {},
     "output_type": "execute_result"
    }
   ],
   "source": [
    "model.coef_  \n",
    "#katsayı\n",
    "#coefficient"
   ]
  },
  {
   "cell_type": "code",
   "execution_count": 28,
   "id": "89365556-aef0-4edd-8151-d7a524a35d63",
   "metadata": {},
   "outputs": [
    {
     "data": {
      "text/plain": [
       "array([-7.45634623])"
      ]
     },
     "execution_count": 28,
     "metadata": {},
     "output_type": "execute_result"
    }
   ],
   "source": [
    "model.intercept_ \n",
    "#sabit\n",
    "#constatnt"
   ]
  },
  {
   "cell_type": "code",
   "execution_count": 30,
   "id": "a134c17c-d55c-472c-88d1-69778178da2d",
   "metadata": {},
   "outputs": [
    {
     "name": "stderr",
     "output_type": "stream",
     "text": [
      "C:\\ProgramData\\anaconda3\\Lib\\site-packages\\sklearn\\base.py:493: UserWarning: X does not have valid feature names, but LinearRegression was fitted with feature names\n",
      "  warnings.warn(\n"
     ]
    },
    {
     "data": {
      "text/plain": [
       "array([[26.99575068]])"
      ]
     },
     "execution_count": 30,
     "metadata": {},
     "output_type": "execute_result"
    }
   ],
   "source": [
    "model.predict([[4,5]])"
   ]
  },
  {
   "cell_type": "code",
   "execution_count": 32,
   "id": "1d8d39a8-76c0-4f2d-a741-8d73dfd3c73f",
   "metadata": {},
   "outputs": [
    {
     "data": {
      "text/plain": [
       "0.9403656320238896"
      ]
     },
     "execution_count": 32,
     "metadata": {},
     "output_type": "execute_result"
    }
   ],
   "source": [
    "model.score(x,y)\n",
    "#modelin doğru bir şekilde tahmin etme oranı\n",
    "#the accuracy of the model's predictions"
   ]
  },
  {
   "cell_type": "code",
   "execution_count": null,
   "id": "00ae5934-6de5-471d-a43d-831e48617026",
   "metadata": {},
   "outputs": [],
   "source": []
  }
 ],
 "metadata": {
  "kernelspec": {
   "display_name": "Python 3 (ipykernel)",
   "language": "python",
   "name": "python3"
  },
  "language_info": {
   "codemirror_mode": {
    "name": "ipython",
    "version": 3
   },
   "file_extension": ".py",
   "mimetype": "text/x-python",
   "name": "python",
   "nbconvert_exporter": "python",
   "pygments_lexer": "ipython3",
   "version": "3.12.4"
  }
 },
 "nbformat": 4,
 "nbformat_minor": 5
}
